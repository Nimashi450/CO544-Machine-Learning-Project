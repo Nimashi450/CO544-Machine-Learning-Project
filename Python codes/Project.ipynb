{
 "cells": [
  {
   "cell_type": "code",
   "execution_count": 2,
   "id": "2b95520c",
   "metadata": {
    "scrolled": true
   },
   "outputs": [
    {
     "data": {
      "text/html": [
       "<div>\n",
       "<style scoped>\n",
       "    .dataframe tbody tr th:only-of-type {\n",
       "        vertical-align: middle;\n",
       "    }\n",
       "\n",
       "    .dataframe tbody tr th {\n",
       "        vertical-align: top;\n",
       "    }\n",
       "\n",
       "    .dataframe thead th {\n",
       "        text-align: right;\n",
       "    }\n",
       "</style>\n",
       "<table border=\"1\" class=\"dataframe\">\n",
       "  <thead>\n",
       "    <tr style=\"text-align: right;\">\n",
       "      <th></th>\n",
       "      <th>Performance</th>\n",
       "      <th>Gender</th>\n",
       "      <th>Caste</th>\n",
       "      <th>coaching</th>\n",
       "      <th>time</th>\n",
       "      <th>Class_ten_education</th>\n",
       "      <th>twelve_education</th>\n",
       "      <th>medium</th>\n",
       "      <th>Class_X_Percentage</th>\n",
       "      <th>Class_XII_Percentage</th>\n",
       "      <th>Father_occupation</th>\n",
       "      <th>Mother_occupation</th>\n",
       "    </tr>\n",
       "  </thead>\n",
       "  <tbody>\n",
       "    <tr>\n",
       "      <th>0</th>\n",
       "      <td>b'Excellent'</td>\n",
       "      <td>b'male'</td>\n",
       "      <td>b'General'</td>\n",
       "      <td>b'NO'</td>\n",
       "      <td>b'ONE'</td>\n",
       "      <td>b'SEBA'</td>\n",
       "      <td>b'AHSEC'</td>\n",
       "      <td>b'ENGLISH'</td>\n",
       "      <td>b'Excellent'</td>\n",
       "      <td>b'Excellent'</td>\n",
       "      <td>b'DOCTOR'</td>\n",
       "      <td>b'OTHERS'</td>\n",
       "    </tr>\n",
       "    <tr>\n",
       "      <th>1</th>\n",
       "      <td>b'Excellent'</td>\n",
       "      <td>b'male'</td>\n",
       "      <td>b'OBC'</td>\n",
       "      <td>b'WA'</td>\n",
       "      <td>b'TWO'</td>\n",
       "      <td>b'SEBA'</td>\n",
       "      <td>b'AHSEC'</td>\n",
       "      <td>b'OTHERS'</td>\n",
       "      <td>b'Excellent'</td>\n",
       "      <td>b'Excellent'</td>\n",
       "      <td>b'SCHOOL_TEACHER'</td>\n",
       "      <td>b'HOUSE_WIFE'</td>\n",
       "    </tr>\n",
       "    <tr>\n",
       "      <th>2</th>\n",
       "      <td>b'Excellent'</td>\n",
       "      <td>b'male'</td>\n",
       "      <td>b'OBC'</td>\n",
       "      <td>b'OA'</td>\n",
       "      <td>b'TWO'</td>\n",
       "      <td>b'OTHERS'</td>\n",
       "      <td>b'CBSE'</td>\n",
       "      <td>b'ENGLISH'</td>\n",
       "      <td>b'Excellent'</td>\n",
       "      <td>b'Excellent'</td>\n",
       "      <td>b'BUSINESS'</td>\n",
       "      <td>b'HOUSE_WIFE'</td>\n",
       "    </tr>\n",
       "    <tr>\n",
       "      <th>3</th>\n",
       "      <td>b'Excellent'</td>\n",
       "      <td>b'male'</td>\n",
       "      <td>b'General'</td>\n",
       "      <td>b'WA'</td>\n",
       "      <td>b'ONE'</td>\n",
       "      <td>b'SEBA'</td>\n",
       "      <td>b'AHSEC'</td>\n",
       "      <td>b'OTHERS'</td>\n",
       "      <td>b'Excellent'</td>\n",
       "      <td>b'Excellent'</td>\n",
       "      <td>b'SCHOOL_TEACHER'</td>\n",
       "      <td>b'SCHOOL_TEACHER'</td>\n",
       "    </tr>\n",
       "    <tr>\n",
       "      <th>4</th>\n",
       "      <td>b'Excellent'</td>\n",
       "      <td>b'male'</td>\n",
       "      <td>b'General'</td>\n",
       "      <td>b'OA'</td>\n",
       "      <td>b'TWO'</td>\n",
       "      <td>b'SEBA'</td>\n",
       "      <td>b'CBSE'</td>\n",
       "      <td>b'ENGLISH'</td>\n",
       "      <td>b'Excellent'</td>\n",
       "      <td>b'Excellent'</td>\n",
       "      <td>b'COLLEGE_TEACHER'</td>\n",
       "      <td>b'HOUSE_WIFE'</td>\n",
       "    </tr>\n",
       "  </tbody>\n",
       "</table>\n",
       "</div>"
      ],
      "text/plain": [
       "    Performance   Gender       Caste coaching    time Class_ten_education  \\\n",
       "0  b'Excellent'  b'male'  b'General'    b'NO'  b'ONE'             b'SEBA'   \n",
       "1  b'Excellent'  b'male'      b'OBC'    b'WA'  b'TWO'             b'SEBA'   \n",
       "2  b'Excellent'  b'male'      b'OBC'    b'OA'  b'TWO'           b'OTHERS'   \n",
       "3  b'Excellent'  b'male'  b'General'    b'WA'  b'ONE'             b'SEBA'   \n",
       "4  b'Excellent'  b'male'  b'General'    b'OA'  b'TWO'             b'SEBA'   \n",
       "\n",
       "  twelve_education      medium Class_X_Percentage Class_XII_Percentage  \\\n",
       "0         b'AHSEC'  b'ENGLISH'       b'Excellent'         b'Excellent'   \n",
       "1         b'AHSEC'   b'OTHERS'       b'Excellent'         b'Excellent'   \n",
       "2          b'CBSE'  b'ENGLISH'       b'Excellent'         b'Excellent'   \n",
       "3         b'AHSEC'   b'OTHERS'       b'Excellent'         b'Excellent'   \n",
       "4          b'CBSE'  b'ENGLISH'       b'Excellent'         b'Excellent'   \n",
       "\n",
       "    Father_occupation  Mother_occupation  \n",
       "0           b'DOCTOR'          b'OTHERS'  \n",
       "1   b'SCHOOL_TEACHER'      b'HOUSE_WIFE'  \n",
       "2         b'BUSINESS'      b'HOUSE_WIFE'  \n",
       "3   b'SCHOOL_TEACHER'  b'SCHOOL_TEACHER'  \n",
       "4  b'COLLEGE_TEACHER'      b'HOUSE_WIFE'  "
      ]
     },
     "execution_count": 2,
     "metadata": {},
     "output_type": "execute_result"
    }
   ],
   "source": [
    "from scipy.io import arff\n",
    "import pandas as pd\n",
    "\n",
    "data = arff.loadarff('CEE_DATA.arff')\n",
    "#data[0] = data[0].decode('utf-8') \n",
    "df = pd.DataFrame(data[0])\n",
    "df = df.rename({'Class_ X_Percentage': 'Class_X_Percentage'}, axis=1)\n",
    "df.head()"
   ]
  },
  {
   "cell_type": "code",
   "execution_count": 73,
   "id": "08a5cebe",
   "metadata": {},
   "outputs": [
    {
     "data": {
      "text/plain": [
       "(666, 12)"
      ]
     },
     "execution_count": 73,
     "metadata": {},
     "output_type": "execute_result"
    }
   ],
   "source": [
    "\n",
    "df.shape"
   ]
  },
  {
   "cell_type": "code",
   "execution_count": 144,
   "id": "3de6b618",
   "metadata": {},
   "outputs": [
    {
     "data": {
      "text/html": [
       "<div>\n",
       "<style scoped>\n",
       "    .dataframe tbody tr th:only-of-type {\n",
       "        vertical-align: middle;\n",
       "    }\n",
       "\n",
       "    .dataframe tbody tr th {\n",
       "        vertical-align: top;\n",
       "    }\n",
       "\n",
       "    .dataframe thead th {\n",
       "        text-align: right;\n",
       "    }\n",
       "</style>\n",
       "<table border=\"1\" class=\"dataframe\">\n",
       "  <thead>\n",
       "    <tr style=\"text-align: right;\">\n",
       "      <th></th>\n",
       "      <th>Performance</th>\n",
       "      <th>Gender</th>\n",
       "      <th>Caste</th>\n",
       "      <th>coaching</th>\n",
       "      <th>time</th>\n",
       "      <th>Class_ten_education</th>\n",
       "      <th>twelve_education</th>\n",
       "      <th>medium</th>\n",
       "      <th>Class_X_Percentage</th>\n",
       "      <th>Class_XII_Percentage</th>\n",
       "      <th>Father_occupation</th>\n",
       "      <th>Mother_occupation</th>\n",
       "    </tr>\n",
       "  </thead>\n",
       "  <tbody>\n",
       "    <tr>\n",
       "      <th>0</th>\n",
       "      <td>b'Excellent'</td>\n",
       "      <td>b'male'</td>\n",
       "      <td>b'General'</td>\n",
       "      <td>b'NO'</td>\n",
       "      <td>b'ONE'</td>\n",
       "      <td>b'SEBA'</td>\n",
       "      <td>b'AHSEC'</td>\n",
       "      <td>b'ENGLISH'</td>\n",
       "      <td>b'Excellent'</td>\n",
       "      <td>b'Excellent'</td>\n",
       "      <td>b'DOCTOR'</td>\n",
       "      <td>b'OTHERS'</td>\n",
       "    </tr>\n",
       "    <tr>\n",
       "      <th>1</th>\n",
       "      <td>b'Excellent'</td>\n",
       "      <td>b'male'</td>\n",
       "      <td>b'OBC'</td>\n",
       "      <td>b'WA'</td>\n",
       "      <td>b'TWO'</td>\n",
       "      <td>b'SEBA'</td>\n",
       "      <td>b'AHSEC'</td>\n",
       "      <td>b'OTHERS'</td>\n",
       "      <td>b'Excellent'</td>\n",
       "      <td>b'Excellent'</td>\n",
       "      <td>b'SCHOOL_TEACHER'</td>\n",
       "      <td>b'HOUSE_WIFE'</td>\n",
       "    </tr>\n",
       "    <tr>\n",
       "      <th>2</th>\n",
       "      <td>b'Excellent'</td>\n",
       "      <td>b'male'</td>\n",
       "      <td>b'OBC'</td>\n",
       "      <td>b'OA'</td>\n",
       "      <td>b'TWO'</td>\n",
       "      <td>b'OTHERS'</td>\n",
       "      <td>b'CBSE'</td>\n",
       "      <td>b'ENGLISH'</td>\n",
       "      <td>b'Excellent'</td>\n",
       "      <td>b'Excellent'</td>\n",
       "      <td>b'BUSINESS'</td>\n",
       "      <td>b'HOUSE_WIFE'</td>\n",
       "    </tr>\n",
       "    <tr>\n",
       "      <th>3</th>\n",
       "      <td>b'Excellent'</td>\n",
       "      <td>b'male'</td>\n",
       "      <td>b'General'</td>\n",
       "      <td>b'WA'</td>\n",
       "      <td>b'ONE'</td>\n",
       "      <td>b'SEBA'</td>\n",
       "      <td>b'AHSEC'</td>\n",
       "      <td>b'OTHERS'</td>\n",
       "      <td>b'Excellent'</td>\n",
       "      <td>b'Excellent'</td>\n",
       "      <td>b'SCHOOL_TEACHER'</td>\n",
       "      <td>b'SCHOOL_TEACHER'</td>\n",
       "    </tr>\n",
       "    <tr>\n",
       "      <th>4</th>\n",
       "      <td>b'Excellent'</td>\n",
       "      <td>b'male'</td>\n",
       "      <td>b'General'</td>\n",
       "      <td>b'OA'</td>\n",
       "      <td>b'TWO'</td>\n",
       "      <td>b'SEBA'</td>\n",
       "      <td>b'CBSE'</td>\n",
       "      <td>b'ENGLISH'</td>\n",
       "      <td>b'Excellent'</td>\n",
       "      <td>b'Excellent'</td>\n",
       "      <td>b'COLLEGE_TEACHER'</td>\n",
       "      <td>b'HOUSE_WIFE'</td>\n",
       "    </tr>\n",
       "  </tbody>\n",
       "</table>\n",
       "</div>"
      ],
      "text/plain": [
       "    Performance   Gender       Caste coaching    time Class_ten_education  \\\n",
       "0  b'Excellent'  b'male'  b'General'    b'NO'  b'ONE'             b'SEBA'   \n",
       "1  b'Excellent'  b'male'      b'OBC'    b'WA'  b'TWO'             b'SEBA'   \n",
       "2  b'Excellent'  b'male'      b'OBC'    b'OA'  b'TWO'           b'OTHERS'   \n",
       "3  b'Excellent'  b'male'  b'General'    b'WA'  b'ONE'             b'SEBA'   \n",
       "4  b'Excellent'  b'male'  b'General'    b'OA'  b'TWO'             b'SEBA'   \n",
       "\n",
       "  twelve_education      medium Class_X_Percentage Class_XII_Percentage  \\\n",
       "0         b'AHSEC'  b'ENGLISH'       b'Excellent'         b'Excellent'   \n",
       "1         b'AHSEC'   b'OTHERS'       b'Excellent'         b'Excellent'   \n",
       "2          b'CBSE'  b'ENGLISH'       b'Excellent'         b'Excellent'   \n",
       "3         b'AHSEC'   b'OTHERS'       b'Excellent'         b'Excellent'   \n",
       "4          b'CBSE'  b'ENGLISH'       b'Excellent'         b'Excellent'   \n",
       "\n",
       "    Father_occupation  Mother_occupation  \n",
       "0           b'DOCTOR'          b'OTHERS'  \n",
       "1   b'SCHOOL_TEACHER'      b'HOUSE_WIFE'  \n",
       "2         b'BUSINESS'      b'HOUSE_WIFE'  \n",
       "3   b'SCHOOL_TEACHER'  b'SCHOOL_TEACHER'  \n",
       "4  b'COLLEGE_TEACHER'      b'HOUSE_WIFE'  "
      ]
     },
     "execution_count": 144,
     "metadata": {},
     "output_type": "execute_result"
    }
   ],
   "source": [
    "df.iloc[:5]"
   ]
  },
  {
   "cell_type": "code",
   "execution_count": 145,
   "id": "767fce0b",
   "metadata": {},
   "outputs": [
    {
     "data": {
      "text/plain": [
       "Performance                  b'Excellent'\n",
       "Gender                            b'male'\n",
       "Caste                              b'OBC'\n",
       "coaching                            b'WA'\n",
       "time                               b'TWO'\n",
       "Class_ten_education               b'SEBA'\n",
       "twelve_education                 b'AHSEC'\n",
       "medium                          b'OTHERS'\n",
       "Class_X_Percentage           b'Excellent'\n",
       "Class_XII_Percentage         b'Excellent'\n",
       "Father_occupation       b'SCHOOL_TEACHER'\n",
       "Mother_occupation           b'HOUSE_WIFE'\n",
       "Name: 1, dtype: object"
      ]
     },
     "execution_count": 145,
     "metadata": {},
     "output_type": "execute_result"
    }
   ],
   "source": [
    "df.loc[1]"
   ]
  },
  {
   "cell_type": "code",
   "execution_count": 17,
   "id": "2a169e6b",
   "metadata": {},
   "outputs": [
    {
     "data": {
      "text/plain": [
       "(666, 12)"
      ]
     },
     "execution_count": 17,
     "metadata": {},
     "output_type": "execute_result"
    }
   ],
   "source": [
    "df.shape"
   ]
  },
  {
   "cell_type": "code",
   "execution_count": 74,
   "id": "c0eecfa5",
   "metadata": {},
   "outputs": [
    {
     "data": {
      "text/plain": [
       "Performance             4\n",
       "Gender                  2\n",
       "Caste                   4\n",
       "coaching                3\n",
       "time                    6\n",
       "Class_ten_education     3\n",
       "twelve_education        3\n",
       "medium                  3\n",
       "Class_ X_Percentage     4\n",
       "Class_XII_Percentage    4\n",
       "Father_occupation       8\n",
       "Mother_occupation       9\n",
       "dtype: int64"
      ]
     },
     "execution_count": 74,
     "metadata": {},
     "output_type": "execute_result"
    }
   ],
   "source": [
    "#Number of distinct  values in columns\n",
    "df.nunique()"
   ]
  },
  {
   "cell_type": "code",
   "execution_count": 19,
   "id": "c355998e",
   "metadata": {},
   "outputs": [
    {
     "data": {
      "text/plain": [
       "Performance             0\n",
       "Gender                  0\n",
       "Caste                   0\n",
       "coaching                0\n",
       "time                    0\n",
       "Class_ten_education     0\n",
       "twelve_education        0\n",
       "medium                  0\n",
       "Class_ X_Percentage     0\n",
       "Class_XII_Percentage    0\n",
       "Father_occupation       0\n",
       "Mother_occupation       0\n",
       "dtype: int64"
      ]
     },
     "execution_count": 19,
     "metadata": {},
     "output_type": "execute_result"
    }
   ],
   "source": [
    "df.isnull().sum(0)"
   ]
  },
  {
   "cell_type": "code",
   "execution_count": 75,
   "id": "cbb88ac1",
   "metadata": {},
   "outputs": [
    {
     "data": {
      "text/html": [
       "<div>\n",
       "<style scoped>\n",
       "    .dataframe tbody tr th:only-of-type {\n",
       "        vertical-align: middle;\n",
       "    }\n",
       "\n",
       "    .dataframe tbody tr th {\n",
       "        vertical-align: top;\n",
       "    }\n",
       "\n",
       "    .dataframe thead th {\n",
       "        text-align: right;\n",
       "    }\n",
       "</style>\n",
       "<table border=\"1\" class=\"dataframe\">\n",
       "  <thead>\n",
       "    <tr style=\"text-align: right;\">\n",
       "      <th></th>\n",
       "      <th>Performance</th>\n",
       "      <th>Gender</th>\n",
       "      <th>Caste</th>\n",
       "      <th>coaching</th>\n",
       "      <th>time</th>\n",
       "      <th>Class_ten_education</th>\n",
       "      <th>twelve_education</th>\n",
       "      <th>medium</th>\n",
       "      <th>Class_ X_Percentage</th>\n",
       "      <th>Class_XII_Percentage</th>\n",
       "      <th>Father_occupation</th>\n",
       "      <th>Mother_occupation</th>\n",
       "    </tr>\n",
       "  </thead>\n",
       "  <tbody>\n",
       "    <tr>\n",
       "      <th>count</th>\n",
       "      <td>666</td>\n",
       "      <td>666</td>\n",
       "      <td>666</td>\n",
       "      <td>666</td>\n",
       "      <td>666</td>\n",
       "      <td>666</td>\n",
       "      <td>666</td>\n",
       "      <td>666</td>\n",
       "      <td>666</td>\n",
       "      <td>666</td>\n",
       "      <td>666</td>\n",
       "      <td>666</td>\n",
       "    </tr>\n",
       "    <tr>\n",
       "      <th>unique</th>\n",
       "      <td>4</td>\n",
       "      <td>2</td>\n",
       "      <td>4</td>\n",
       "      <td>3</td>\n",
       "      <td>6</td>\n",
       "      <td>3</td>\n",
       "      <td>3</td>\n",
       "      <td>3</td>\n",
       "      <td>4</td>\n",
       "      <td>4</td>\n",
       "      <td>8</td>\n",
       "      <td>9</td>\n",
       "    </tr>\n",
       "    <tr>\n",
       "      <th>top</th>\n",
       "      <td>b'Good'</td>\n",
       "      <td>b'male'</td>\n",
       "      <td>b'General'</td>\n",
       "      <td>b'WA'</td>\n",
       "      <td>b'TWO'</td>\n",
       "      <td>b'SEBA'</td>\n",
       "      <td>b'AHSEC'</td>\n",
       "      <td>b'ENGLISH'</td>\n",
       "      <td>b'Excellent'</td>\n",
       "      <td>b'Excellent'</td>\n",
       "      <td>b'OTHERS'</td>\n",
       "      <td>b'HOUSE_WIFE'</td>\n",
       "    </tr>\n",
       "    <tr>\n",
       "      <th>freq</th>\n",
       "      <td>210</td>\n",
       "      <td>355</td>\n",
       "      <td>329</td>\n",
       "      <td>449</td>\n",
       "      <td>368</td>\n",
       "      <td>396</td>\n",
       "      <td>368</td>\n",
       "      <td>536</td>\n",
       "      <td>511</td>\n",
       "      <td>398</td>\n",
       "      <td>277</td>\n",
       "      <td>442</td>\n",
       "    </tr>\n",
       "  </tbody>\n",
       "</table>\n",
       "</div>"
      ],
      "text/plain": [
       "       Performance   Gender       Caste coaching    time Class_ten_education  \\\n",
       "count          666      666         666      666     666                 666   \n",
       "unique           4        2           4        3       6                   3   \n",
       "top        b'Good'  b'male'  b'General'    b'WA'  b'TWO'             b'SEBA'   \n",
       "freq           210      355         329      449     368                 396   \n",
       "\n",
       "       twelve_education      medium Class_ X_Percentage Class_XII_Percentage  \\\n",
       "count               666         666                 666                  666   \n",
       "unique                3           3                   4                    4   \n",
       "top            b'AHSEC'  b'ENGLISH'        b'Excellent'         b'Excellent'   \n",
       "freq                368         536                 511                  398   \n",
       "\n",
       "       Father_occupation Mother_occupation  \n",
       "count                666               666  \n",
       "unique                 8                 9  \n",
       "top            b'OTHERS'     b'HOUSE_WIFE'  \n",
       "freq                 277               442  "
      ]
     },
     "execution_count": 75,
     "metadata": {},
     "output_type": "execute_result"
    }
   ],
   "source": [
    " # descriptive statistics for each column\n",
    "df.describe()"
   ]
  },
  {
   "cell_type": "code",
   "execution_count": 146,
   "id": "bbc298d1",
   "metadata": {},
   "outputs": [
    {
     "data": {
      "text/plain": [
       "Performance             4\n",
       "Gender                  2\n",
       "Caste                   4\n",
       "coaching                3\n",
       "time                    6\n",
       "Class_ten_education     3\n",
       "twelve_education        3\n",
       "medium                  3\n",
       "Class_X_Percentage      4\n",
       "Class_XII_Percentage    4\n",
       "Father_occupation       8\n",
       "Mother_occupation       9\n",
       "dtype: int64"
      ]
     },
     "execution_count": 146,
     "metadata": {},
     "output_type": "execute_result"
    }
   ],
   "source": [
    "#Number of distinct  values in columns\n",
    "df.nunique()"
   ]
  },
  {
   "cell_type": "code",
   "execution_count": 147,
   "id": "3df34e2b",
   "metadata": {},
   "outputs": [
    {
     "data": {
      "text/html": [
       "<div>\n",
       "<style scoped>\n",
       "    .dataframe tbody tr th:only-of-type {\n",
       "        vertical-align: middle;\n",
       "    }\n",
       "\n",
       "    .dataframe tbody tr th {\n",
       "        vertical-align: top;\n",
       "    }\n",
       "\n",
       "    .dataframe thead th {\n",
       "        text-align: right;\n",
       "    }\n",
       "</style>\n",
       "<table border=\"1\" class=\"dataframe\">\n",
       "  <thead>\n",
       "    <tr style=\"text-align: right;\">\n",
       "      <th></th>\n",
       "      <th>Performance</th>\n",
       "      <th>Gender</th>\n",
       "      <th>Caste</th>\n",
       "      <th>coaching</th>\n",
       "      <th>time</th>\n",
       "      <th>Class_ten_education</th>\n",
       "      <th>twelve_education</th>\n",
       "      <th>medium</th>\n",
       "      <th>Class_X_Percentage</th>\n",
       "      <th>Class_XII_Percentage</th>\n",
       "      <th>Father_occupation</th>\n",
       "      <th>Mother_occupation</th>\n",
       "    </tr>\n",
       "  </thead>\n",
       "  <tbody>\n",
       "    <tr>\n",
       "      <th>count</th>\n",
       "      <td>666</td>\n",
       "      <td>666</td>\n",
       "      <td>666</td>\n",
       "      <td>666</td>\n",
       "      <td>666</td>\n",
       "      <td>666</td>\n",
       "      <td>666</td>\n",
       "      <td>666</td>\n",
       "      <td>666</td>\n",
       "      <td>666</td>\n",
       "      <td>666</td>\n",
       "      <td>666</td>\n",
       "    </tr>\n",
       "    <tr>\n",
       "      <th>unique</th>\n",
       "      <td>4</td>\n",
       "      <td>2</td>\n",
       "      <td>4</td>\n",
       "      <td>3</td>\n",
       "      <td>6</td>\n",
       "      <td>3</td>\n",
       "      <td>3</td>\n",
       "      <td>3</td>\n",
       "      <td>4</td>\n",
       "      <td>4</td>\n",
       "      <td>8</td>\n",
       "      <td>9</td>\n",
       "    </tr>\n",
       "    <tr>\n",
       "      <th>top</th>\n",
       "      <td>b'Good'</td>\n",
       "      <td>b'male'</td>\n",
       "      <td>b'General'</td>\n",
       "      <td>b'WA'</td>\n",
       "      <td>b'TWO'</td>\n",
       "      <td>b'SEBA'</td>\n",
       "      <td>b'AHSEC'</td>\n",
       "      <td>b'ENGLISH'</td>\n",
       "      <td>b'Excellent'</td>\n",
       "      <td>b'Excellent'</td>\n",
       "      <td>b'OTHERS'</td>\n",
       "      <td>b'HOUSE_WIFE'</td>\n",
       "    </tr>\n",
       "    <tr>\n",
       "      <th>freq</th>\n",
       "      <td>210</td>\n",
       "      <td>355</td>\n",
       "      <td>329</td>\n",
       "      <td>449</td>\n",
       "      <td>368</td>\n",
       "      <td>396</td>\n",
       "      <td>368</td>\n",
       "      <td>536</td>\n",
       "      <td>511</td>\n",
       "      <td>398</td>\n",
       "      <td>277</td>\n",
       "      <td>442</td>\n",
       "    </tr>\n",
       "  </tbody>\n",
       "</table>\n",
       "</div>"
      ],
      "text/plain": [
       "       Performance   Gender       Caste coaching    time Class_ten_education  \\\n",
       "count          666      666         666      666     666                 666   \n",
       "unique           4        2           4        3       6                   3   \n",
       "top        b'Good'  b'male'  b'General'    b'WA'  b'TWO'             b'SEBA'   \n",
       "freq           210      355         329      449     368                 396   \n",
       "\n",
       "       twelve_education      medium Class_X_Percentage Class_XII_Percentage  \\\n",
       "count               666         666                666                  666   \n",
       "unique                3           3                  4                    4   \n",
       "top            b'AHSEC'  b'ENGLISH'       b'Excellent'         b'Excellent'   \n",
       "freq                368         536                511                  398   \n",
       "\n",
       "       Father_occupation Mother_occupation  \n",
       "count                666               666  \n",
       "unique                 8                 9  \n",
       "top            b'OTHERS'     b'HOUSE_WIFE'  \n",
       "freq                 277               442  "
      ]
     },
     "execution_count": 147,
     "metadata": {},
     "output_type": "execute_result"
    }
   ],
   "source": [
    " # descriptive statistics for each column\n",
    "df.describe()"
   ]
  },
  {
   "cell_type": "code",
   "execution_count": 82,
   "id": "ad27f56e",
   "metadata": {},
   "outputs": [
    {
     "data": {
      "text/plain": [
       "Performance             object\n",
       "Gender                  object\n",
       "Caste                   object\n",
       "coaching                object\n",
       "time                    object\n",
       "Class_ten_education     object\n",
       "twelve_education        object\n",
       "medium                  object\n",
       "Class_ X_Percentage     object\n",
       "Class_XII_Percentage    object\n",
       "Father_occupation       object\n",
       "Mother_occupation       object\n",
       "dtype: object"
      ]
     },
     "execution_count": 82,
     "metadata": {},
     "output_type": "execute_result"
    }
   ],
   "source": [
    "df.dtypes"
   ]
  },
  {
   "cell_type": "code",
   "execution_count": 78,
   "id": "bb1cf82a",
   "metadata": {},
   "outputs": [
    {
     "data": {
      "text/plain": [
       "Performance             0\n",
       "Gender                  0\n",
       "Caste                   0\n",
       "coaching                0\n",
       "time                    0\n",
       "Class_ten_education     0\n",
       "twelve_education        0\n",
       "medium                  0\n",
       "Class_ X_Percentage     0\n",
       "Class_XII_Percentage    0\n",
       "Father_occupation       0\n",
       "Mother_occupation       0\n",
       "dtype: int64"
      ]
     },
     "execution_count": 78,
     "metadata": {},
     "output_type": "execute_result"
    }
   ],
   "source": [
    "df.isnull().sum(0)"
   ]
  },
  {
   "cell_type": "code",
   "execution_count": 4,
   "id": "f13c73ef",
   "metadata": {},
   "outputs": [
    {
     "data": {
      "text/html": [
       "<div>\n",
       "<style scoped>\n",
       "    .dataframe tbody tr th:only-of-type {\n",
       "        vertical-align: middle;\n",
       "    }\n",
       "\n",
       "    .dataframe tbody tr th {\n",
       "        vertical-align: top;\n",
       "    }\n",
       "\n",
       "    .dataframe thead th {\n",
       "        text-align: right;\n",
       "    }\n",
       "</style>\n",
       "<table border=\"1\" class=\"dataframe\">\n",
       "  <thead>\n",
       "    <tr style=\"text-align: right;\">\n",
       "      <th></th>\n",
       "      <th>Performance</th>\n",
       "      <th>Gender</th>\n",
       "      <th>Caste</th>\n",
       "      <th>coaching</th>\n",
       "      <th>time</th>\n",
       "      <th>Class_ten_education</th>\n",
       "      <th>twelve_education</th>\n",
       "      <th>medium</th>\n",
       "      <th>Class_X_Percentage</th>\n",
       "      <th>Class_XII_Percentage</th>\n",
       "      <th>Father_occupation</th>\n",
       "      <th>Mother_occupation</th>\n",
       "    </tr>\n",
       "  </thead>\n",
       "  <tbody>\n",
       "    <tr>\n",
       "      <th>0</th>\n",
       "      <td>1</td>\n",
       "      <td>1</td>\n",
       "      <td>0</td>\n",
       "      <td>0</td>\n",
       "      <td>2</td>\n",
       "      <td>2</td>\n",
       "      <td>0</td>\n",
       "      <td>1</td>\n",
       "      <td>1</td>\n",
       "      <td>1</td>\n",
       "      <td>4</td>\n",
       "      <td>7</td>\n",
       "    </tr>\n",
       "    <tr>\n",
       "      <th>1</th>\n",
       "      <td>1</td>\n",
       "      <td>1</td>\n",
       "      <td>1</td>\n",
       "      <td>2</td>\n",
       "      <td>5</td>\n",
       "      <td>2</td>\n",
       "      <td>0</td>\n",
       "      <td>2</td>\n",
       "      <td>1</td>\n",
       "      <td>1</td>\n",
       "      <td>7</td>\n",
       "      <td>6</td>\n",
       "    </tr>\n",
       "    <tr>\n",
       "      <th>2</th>\n",
       "      <td>1</td>\n",
       "      <td>1</td>\n",
       "      <td>1</td>\n",
       "      <td>1</td>\n",
       "      <td>5</td>\n",
       "      <td>1</td>\n",
       "      <td>1</td>\n",
       "      <td>1</td>\n",
       "      <td>1</td>\n",
       "      <td>1</td>\n",
       "      <td>1</td>\n",
       "      <td>6</td>\n",
       "    </tr>\n",
       "    <tr>\n",
       "      <th>3</th>\n",
       "      <td>1</td>\n",
       "      <td>1</td>\n",
       "      <td>0</td>\n",
       "      <td>2</td>\n",
       "      <td>2</td>\n",
       "      <td>2</td>\n",
       "      <td>0</td>\n",
       "      <td>2</td>\n",
       "      <td>1</td>\n",
       "      <td>1</td>\n",
       "      <td>7</td>\n",
       "      <td>8</td>\n",
       "    </tr>\n",
       "    <tr>\n",
       "      <th>4</th>\n",
       "      <td>1</td>\n",
       "      <td>1</td>\n",
       "      <td>0</td>\n",
       "      <td>1</td>\n",
       "      <td>5</td>\n",
       "      <td>2</td>\n",
       "      <td>1</td>\n",
       "      <td>1</td>\n",
       "      <td>1</td>\n",
       "      <td>1</td>\n",
       "      <td>2</td>\n",
       "      <td>6</td>\n",
       "    </tr>\n",
       "    <tr>\n",
       "      <th>...</th>\n",
       "      <td>...</td>\n",
       "      <td>...</td>\n",
       "      <td>...</td>\n",
       "      <td>...</td>\n",
       "      <td>...</td>\n",
       "      <td>...</td>\n",
       "      <td>...</td>\n",
       "      <td>...</td>\n",
       "      <td>...</td>\n",
       "      <td>...</td>\n",
       "      <td>...</td>\n",
       "      <td>...</td>\n",
       "    </tr>\n",
       "    <tr>\n",
       "      <th>661</th>\n",
       "      <td>0</td>\n",
       "      <td>0</td>\n",
       "      <td>3</td>\n",
       "      <td>2</td>\n",
       "      <td>2</td>\n",
       "      <td>2</td>\n",
       "      <td>0</td>\n",
       "      <td>1</td>\n",
       "      <td>2</td>\n",
       "      <td>3</td>\n",
       "      <td>6</td>\n",
       "      <td>6</td>\n",
       "    </tr>\n",
       "    <tr>\n",
       "      <th>662</th>\n",
       "      <td>0</td>\n",
       "      <td>1</td>\n",
       "      <td>3</td>\n",
       "      <td>2</td>\n",
       "      <td>4</td>\n",
       "      <td>2</td>\n",
       "      <td>0</td>\n",
       "      <td>1</td>\n",
       "      <td>3</td>\n",
       "      <td>2</td>\n",
       "      <td>3</td>\n",
       "      <td>6</td>\n",
       "    </tr>\n",
       "    <tr>\n",
       "      <th>663</th>\n",
       "      <td>0</td>\n",
       "      <td>1</td>\n",
       "      <td>3</td>\n",
       "      <td>2</td>\n",
       "      <td>5</td>\n",
       "      <td>2</td>\n",
       "      <td>1</td>\n",
       "      <td>1</td>\n",
       "      <td>2</td>\n",
       "      <td>3</td>\n",
       "      <td>6</td>\n",
       "      <td>8</td>\n",
       "    </tr>\n",
       "    <tr>\n",
       "      <th>664</th>\n",
       "      <td>0</td>\n",
       "      <td>1</td>\n",
       "      <td>3</td>\n",
       "      <td>2</td>\n",
       "      <td>4</td>\n",
       "      <td>2</td>\n",
       "      <td>0</td>\n",
       "      <td>1</td>\n",
       "      <td>2</td>\n",
       "      <td>2</td>\n",
       "      <td>7</td>\n",
       "      <td>6</td>\n",
       "    </tr>\n",
       "    <tr>\n",
       "      <th>665</th>\n",
       "      <td>0</td>\n",
       "      <td>0</td>\n",
       "      <td>3</td>\n",
       "      <td>0</td>\n",
       "      <td>2</td>\n",
       "      <td>2</td>\n",
       "      <td>1</td>\n",
       "      <td>1</td>\n",
       "      <td>3</td>\n",
       "      <td>2</td>\n",
       "      <td>1</td>\n",
       "      <td>7</td>\n",
       "    </tr>\n",
       "  </tbody>\n",
       "</table>\n",
       "<p>666 rows × 12 columns</p>\n",
       "</div>"
      ],
      "text/plain": [
       "     Performance  Gender  Caste  coaching  time  Class_ten_education  \\\n",
       "0              1       1      0         0     2                    2   \n",
       "1              1       1      1         2     5                    2   \n",
       "2              1       1      1         1     5                    1   \n",
       "3              1       1      0         2     2                    2   \n",
       "4              1       1      0         1     5                    2   \n",
       "..           ...     ...    ...       ...   ...                  ...   \n",
       "661            0       0      3         2     2                    2   \n",
       "662            0       1      3         2     4                    2   \n",
       "663            0       1      3         2     5                    2   \n",
       "664            0       1      3         2     4                    2   \n",
       "665            0       0      3         0     2                    2   \n",
       "\n",
       "     twelve_education  medium  Class_X_Percentage  Class_XII_Percentage  \\\n",
       "0                   0       1                   1                     1   \n",
       "1                   0       2                   1                     1   \n",
       "2                   1       1                   1                     1   \n",
       "3                   0       2                   1                     1   \n",
       "4                   1       1                   1                     1   \n",
       "..                ...     ...                 ...                   ...   \n",
       "661                 0       1                   2                     3   \n",
       "662                 0       1                   3                     2   \n",
       "663                 1       1                   2                     3   \n",
       "664                 0       1                   2                     2   \n",
       "665                 1       1                   3                     2   \n",
       "\n",
       "     Father_occupation  Mother_occupation  \n",
       "0                    4                  7  \n",
       "1                    7                  6  \n",
       "2                    1                  6  \n",
       "3                    7                  8  \n",
       "4                    2                  6  \n",
       "..                 ...                ...  \n",
       "661                  6                  6  \n",
       "662                  3                  6  \n",
       "663                  6                  8  \n",
       "664                  7                  6  \n",
       "665                  1                  7  \n",
       "\n",
       "[666 rows x 12 columns]"
      ]
     },
     "execution_count": 4,
     "metadata": {},
     "output_type": "execute_result"
    }
   ],
   "source": [
    "from sklearn.preprocessing import LabelEncoder\n",
    "\n",
    "\n",
    "le = LabelEncoder()\n",
    "df.Performance = le.fit_transform(df['Performance'])\n",
    "df.Gender = le.fit_transform(df['Gender'])\n",
    "df.Caste = le.fit_transform(df['Caste'])\n",
    "df.coaching = le.fit_transform(df['coaching'])\n",
    "df.time = le.fit_transform(df['time'])\n",
    "df.Class_ten_education= le.fit_transform(df['Class_ten_education'])\n",
    "df.twelve_education = le.fit_transform(df['twelve_education'])\n",
    "df.medium = le.fit_transform(df['medium'])\n",
    "df.Class_X_Percentage = le.fit_transform(df['Class_X_Percentage'])\n",
    "df.Class_XII_Percentage = le.fit_transform(df['Class_XII_Percentage'])\n",
    "df.Father_occupation = le.fit_transform(df['Father_occupation'])\n",
    "df.Mother_occupation = le.fit_transform(df['Mother_occupation'])\n",
    "#df.Gender = le.fit_transform(df['Gender'])\n",
    "\n",
    "df"
   ]
  },
  {
   "cell_type": "code",
   "execution_count": 86,
   "id": "d4265555",
   "metadata": {},
   "outputs": [
    {
     "data": {
      "text/plain": [
       "count    666.000000\n",
       "mean       1.674174\n",
       "std        1.134752\n",
       "min        0.000000\n",
       "25%        1.000000\n",
       "50%        2.000000\n",
       "75%        3.000000\n",
       "max        3.000000\n",
       "Name: Performance, dtype: float64"
      ]
     },
     "execution_count": 86,
     "metadata": {},
     "output_type": "execute_result"
    }
   ],
   "source": [
    "df['Performance'].describe()"
   ]
  },
  {
   "cell_type": "code",
   "execution_count": 150,
   "id": "4e8bda4d",
   "metadata": {},
   "outputs": [
    {
     "data": {
      "text/plain": [
       "Caste                  -0.618730\n",
       "Class_XII_Percentage   -0.111086\n",
       "Class_X_Percentage     -0.093193\n",
       "Mother_occupation      -0.054479\n",
       "Class_ten_education    -0.053992\n",
       "time                   -0.042292\n",
       "Gender                 -0.019460\n",
       "Father_occupation      -0.018133\n",
       "twelve_education       -0.015978\n",
       "coaching                0.051394\n",
       "medium                  0.176761\n",
       "Performance             1.000000\n",
       "Name: Performance, dtype: float64"
      ]
     },
     "execution_count": 150,
     "metadata": {},
     "output_type": "execute_result"
    }
   ],
   "source": [
    "df.corr()['Performance'].sort_values()"
   ]
  },
  {
   "cell_type": "code",
   "execution_count": 151,
   "id": "3263639f",
   "metadata": {},
   "outputs": [
    {
     "data": {
      "image/png": "[encoded data removed]",
      "text/plain": [
       "<Figure size 720x720 with 2 Axes>"
      ]
     },
     "metadata": {
      "needs_background": "light"
     },
     "output_type": "display_data"
    }
   ],
   "source": [
    "#heatmap is used to show the correlation in graphically\n",
    "import seaborn as sb\n",
    "#plotting heatmap\n",
    "plt.figure(figsize = (10,10))\n",
    "corr = df.corr()\n",
    "ax = sb.heatmap(\n",
    "    corr[['Performance']],\n",
    "    vmin=-1, vmax=1, center=0,\n",
    "    yticklabels = corr.columns,annot = True,\n",
    "    cmap=sb.diverging_palette(20, 220, n=200),\n",
    "    square=True\n",
    "    )\n",
    "\n",
    "ax.set_xticklabels(\n",
    "    ax.get_xticklabels(),\n",
    "    rotation=45,\n",
    "    horizontalalignment='right'\n",
    ");"
   ]
  },
  {
   "cell_type": "code",
   "execution_count": 18,
   "id": "97172d37",
   "metadata": {},
   "outputs": [
    {
     "name": "stderr",
     "output_type": "stream",
     "text": [
      "c:\\users\\asus\\appdata\\local\\programs\\python\\python39\\lib\\site-packages\\sklearn\\linear_model\\_logistic.py:763: ConvergenceWarning: lbfgs failed to converge (status=1):\n",
      "STOP: TOTAL NO. of ITERATIONS REACHED LIMIT.\n",
      "\n",
      "Increase the number of iterations (max_iter) or scale the data as shown in:\n",
      "    https://scikit-learn.org/stable/modules/preprocessing.html\n",
      "Please also refer to the documentation for alternative solver options:\n",
      "    https://scikit-learn.org/stable/modules/linear_model.html#logistic-regression\n",
      "  n_iter_i = _check_optimize_result(\n"
     ]
    },
    {
     "data": {
      "text/plain": [
       "0.48507462686567165"
      ]
     },
     "execution_count": 18,
     "metadata": {},
     "output_type": "execute_result"
    }
   ],
   "source": [
    "from sklearn.model_selection import train_test_split\n",
    "from sklearn.linear_model import LogisticRegression\n",
    "import matplotlib.pyplot as plt\n",
    "\n",
    "Y = df.Performance\n",
    "X = df.drop('Performance', axis = 1)\n",
    "#we split the dataset into a test and training set\n",
    "train_x, test_x, train_y, test_y = train_test_split(X,Y , test_size=0.2, random_state=0)\n",
    "clf = LogisticRegression(solver='lbfgs',multi_class='multinomial')\n",
    "clf.fit(train_x, train_y)\n",
    "clf.score(test_x, test_y)\n"
   ]
  },
  {
   "cell_type": "code",
   "execution_count": 14,
   "id": "34c126c4",
   "metadata": {},
   "outputs": [],
   "source": [
    "from sklearn import metrics\n",
    "clf.predict(train_x)\n",
    "y_pred = clf.predict(test_x)"
   ]
  },
  {
   "cell_type": "code",
   "execution_count": 9,
   "id": "37b353b7",
   "metadata": {
    "scrolled": true
   },
   "outputs": [
    {
     "data": {
      "text/plain": [
       "array([[40,  1,  6,  1],\n",
       "       [ 0,  1,  9, 22],\n",
       "       [ 6,  8, 25, 26],\n",
       "       [ 5,  3, 18, 29]], dtype=int64)"
      ]
     },
     "execution_count": 9,
     "metadata": {},
     "output_type": "execute_result"
    },
    {
     "data": {
      "image/png": "[encoded data removed]",
      "text/plain": [
       "<Figure size 720x432 with 2 Axes>"
      ]
     },
     "metadata": {
      "needs_background": "light"
     },
     "output_type": "display_data"
    }
   ],
   "source": [
    "#Creating matplotlib axes object to assign figuresize and figure title\n",
    "from sklearn import metrics\n",
    "fig, ax = plt.subplots(figsize=(10, 6))\n",
    "ax.set_title('Confusion Matrix')\n",
    "\n",
    "disp = metrics.plot_confusion_matrix(clf,test_x, test_y, ax = ax)\n",
    "disp.confusion_matrix"
   ]
  },
  {
   "cell_type": "code",
   "execution_count": 17,
   "id": "35fb31fc",
   "metadata": {},
   "outputs": [
    {
     "name": "stdout",
     "output_type": "stream",
     "text": [
      "              precision    recall  f1-score   support\n",
      "\n",
      "           0       0.78      0.83      0.81        48\n",
      "           1       0.08      0.03      0.04        32\n",
      "           2       0.43      0.38      0.41        65\n",
      "           3       0.37      0.53      0.44        55\n",
      "\n",
      "    accuracy                           0.48       200\n",
      "   macro avg       0.42      0.44      0.42       200\n",
      "weighted avg       0.44      0.47      0.45       200\n",
      "\n"
     ]
    }
   ],
   "source": [
    "from sklearn.metrics import classification_report\n",
    "print(classification_report(test_y, y_pred)) \n"
   ]
  },
  {
   "cell_type": "code",
   "execution_count": 21,
   "id": "2255e3bb",
   "metadata": {},
   "outputs": [
    {
     "name": "stderr",
     "output_type": "stream",
     "text": [
      "c:\\users\\asus\\appdata\\local\\programs\\python\\python39\\lib\\site-packages\\sklearn\\svm\\_base.py:985: ConvergenceWarning: Liblinear failed to converge, increase the number of iterations.\n",
      "  warnings.warn(\"Liblinear failed to converge, increase \"\n",
      "c:\\users\\asus\\appdata\\local\\programs\\python\\python39\\lib\\site-packages\\sklearn\\svm\\_base.py:985: ConvergenceWarning: Liblinear failed to converge, increase the number of iterations.\n",
      "  warnings.warn(\"Liblinear failed to converge, increase \"\n",
      "c:\\users\\asus\\appdata\\local\\programs\\python\\python39\\lib\\site-packages\\sklearn\\svm\\_base.py:985: ConvergenceWarning: Liblinear failed to converge, increase the number of iterations.\n",
      "  warnings.warn(\"Liblinear failed to converge, increase \"\n",
      "c:\\users\\asus\\appdata\\local\\programs\\python\\python39\\lib\\site-packages\\sklearn\\svm\\_base.py:985: ConvergenceWarning: Liblinear failed to converge, increase the number of iterations.\n",
      "  warnings.warn(\"Liblinear failed to converge, increase \"\n",
      "c:\\users\\asus\\appdata\\local\\programs\\python\\python39\\lib\\site-packages\\sklearn\\svm\\_base.py:985: ConvergenceWarning: Liblinear failed to converge, increase the number of iterations.\n",
      "  warnings.warn(\"Liblinear failed to converge, increase \"\n",
      "c:\\users\\asus\\appdata\\local\\programs\\python\\python39\\lib\\site-packages\\sklearn\\svm\\_base.py:985: ConvergenceWarning: Liblinear failed to converge, increase the number of iterations.\n",
      "  warnings.warn(\"Liblinear failed to converge, increase \"\n"
     ]
    },
    {
     "data": {
      "text/plain": [
       "0.5223880597014925"
      ]
     },
     "execution_count": 21,
     "metadata": {},
     "output_type": "execute_result"
    }
   ],
   "source": [
    "from sklearn.multiclass import OneVsOneClassifier\n",
    "from sklearn.svm import LinearSVC\n",
    "clf2 = OneVsOneClassifier(LinearSVC(random_state=0))\n",
    "clf2.fit(X, Y)\n",
    "#clf.predict(X)\n",
    "clf2.score(test_x, test_y)"
   ]
  },
  {
   "cell_type": "code",
   "execution_count": 23,
   "id": "3ad54728",
   "metadata": {},
   "outputs": [
    {
     "name": "stdout",
     "output_type": "stream",
     "text": [
      "              precision    recall  f1-score   support\n",
      "\n",
      "           0       0.81      0.85      0.83        34\n",
      "           1       0.36      0.17      0.23        24\n",
      "           2       0.46      0.53      0.49        40\n",
      "           3       0.39      0.44      0.42        36\n",
      "\n",
      "    accuracy                           0.52       134\n",
      "   macro avg       0.50      0.50      0.49       134\n",
      "weighted avg       0.51      0.52      0.51       134\n",
      "\n"
     ]
    }
   ],
   "source": [
    "y2_pred = clf2.predict(test_x)\n",
    "print(classification_report(test_y, y2_pred)) "
   ]
  },
  {
   "cell_type": "code",
   "execution_count": 27,
   "id": "37f097c6",
   "metadata": {},
   "outputs": [
    {
     "name": "stderr",
     "output_type": "stream",
     "text": [
      "c:\\users\\asus\\appdata\\local\\programs\\python\\python39\\lib\\site-packages\\sklearn\\svm\\_base.py:985: ConvergenceWarning: Liblinear failed to converge, increase the number of iterations.\n",
      "  warnings.warn(\"Liblinear failed to converge, increase \"\n",
      "c:\\users\\asus\\appdata\\local\\programs\\python\\python39\\lib\\site-packages\\sklearn\\svm\\_base.py:985: ConvergenceWarning: Liblinear failed to converge, increase the number of iterations.\n",
      "  warnings.warn(\"Liblinear failed to converge, increase \"\n",
      "c:\\users\\asus\\appdata\\local\\programs\\python\\python39\\lib\\site-packages\\sklearn\\svm\\_base.py:985: ConvergenceWarning: Liblinear failed to converge, increase the number of iterations.\n",
      "  warnings.warn(\"Liblinear failed to converge, increase \"\n",
      "c:\\users\\asus\\appdata\\local\\programs\\python\\python39\\lib\\site-packages\\sklearn\\svm\\_base.py:985: ConvergenceWarning: Liblinear failed to converge, increase the number of iterations.\n",
      "  warnings.warn(\"Liblinear failed to converge, increase \"\n"
     ]
    },
    {
     "data": {
      "text/plain": [
       "0.48507462686567165"
      ]
     },
     "execution_count": 27,
     "metadata": {},
     "output_type": "execute_result"
    }
   ],
   "source": [
    "from sklearn.multiclass import OneVsRestClassifier\n",
    "clf3 = OneVsRestClassifier(LinearSVC(random_state=0)).fit(X, Y)#.predict(X)\n",
    "clf.score(test_x,test_y)"
   ]
  },
  {
   "cell_type": "code",
   "execution_count": 29,
   "id": "d73d5156",
   "metadata": {},
   "outputs": [
    {
     "name": "stdout",
     "output_type": "stream",
     "text": [
      "              precision    recall  f1-score   support\n",
      "\n",
      "           0       0.78      0.91      0.84        34\n",
      "           1       0.20      0.04      0.07        24\n",
      "           2       0.45      0.47      0.46        40\n",
      "           3       0.38      0.50      0.43        36\n",
      "\n",
      "    accuracy                           0.51       134\n",
      "   macro avg       0.45      0.48      0.45       134\n",
      "weighted avg       0.47      0.51      0.48       134\n",
      "\n"
     ]
    }
   ],
   "source": [
    "y3_pred = clf3.predict(test_x)\n",
    "print(classification_report(test_y, y3_pred)) "
   ]
  },
  {
   "cell_type": "code",
   "execution_count": 31,
   "id": "fd78cc75",
   "metadata": {},
   "outputs": [
    {
     "name": "stderr",
     "output_type": "stream",
     "text": [
      "c:\\users\\asus\\appdata\\local\\programs\\python\\python39\\lib\\site-packages\\sklearn\\svm\\_base.py:985: ConvergenceWarning: Liblinear failed to converge, increase the number of iterations.\n",
      "  warnings.warn(\"Liblinear failed to converge, increase \"\n",
      "c:\\users\\asus\\appdata\\local\\programs\\python\\python39\\lib\\site-packages\\sklearn\\svm\\_base.py:985: ConvergenceWarning: Liblinear failed to converge, increase the number of iterations.\n",
      "  warnings.warn(\"Liblinear failed to converge, increase \"\n",
      "c:\\users\\asus\\appdata\\local\\programs\\python\\python39\\lib\\site-packages\\sklearn\\svm\\_base.py:985: ConvergenceWarning: Liblinear failed to converge, increase the number of iterations.\n",
      "  warnings.warn(\"Liblinear failed to converge, increase \"\n",
      "c:\\users\\asus\\appdata\\local\\programs\\python\\python39\\lib\\site-packages\\sklearn\\svm\\_base.py:985: ConvergenceWarning: Liblinear failed to converge, increase the number of iterations.\n",
      "  warnings.warn(\"Liblinear failed to converge, increase \"\n",
      "c:\\users\\asus\\appdata\\local\\programs\\python\\python39\\lib\\site-packages\\sklearn\\svm\\_base.py:985: ConvergenceWarning: Liblinear failed to converge, increase the number of iterations.\n",
      "  warnings.warn(\"Liblinear failed to converge, increase \"\n",
      "c:\\users\\asus\\appdata\\local\\programs\\python\\python39\\lib\\site-packages\\sklearn\\svm\\_base.py:985: ConvergenceWarning: Liblinear failed to converge, increase the number of iterations.\n",
      "  warnings.warn(\"Liblinear failed to converge, increase \"\n"
     ]
    },
    {
     "data": {
      "text/plain": [
       "0.5074626865671642"
      ]
     },
     "execution_count": 31,
     "metadata": {},
     "output_type": "execute_result"
    }
   ],
   "source": [
    "from sklearn.multiclass import OutputCodeClassifier\n",
    "clf4 = OutputCodeClassifier(LinearSVC(random_state=0),code_size=2, random_state=0)\n",
    "clf4.fit(X, Y).predict(X)\n",
    "clf4.score(test_x,test_y)"
   ]
  },
  {
   "cell_type": "code",
   "execution_count": 32,
   "id": "538e8886",
   "metadata": {},
   "outputs": [
    {
     "name": "stdout",
     "output_type": "stream",
     "text": [
      "              precision    recall  f1-score   support\n",
      "\n",
      "           0       0.85      0.85      0.85        34\n",
      "           1       0.00      0.00      0.00        24\n",
      "           2       0.39      0.82      0.53        40\n",
      "           3       0.40      0.17      0.24        36\n",
      "\n",
      "    accuracy                           0.51       134\n",
      "   macro avg       0.41      0.46      0.40       134\n",
      "weighted avg       0.44      0.51      0.44       134\n",
      "\n"
     ]
    },
    {
     "name": "stderr",
     "output_type": "stream",
     "text": [
      "c:\\users\\asus\\appdata\\local\\programs\\python\\python39\\lib\\site-packages\\sklearn\\metrics\\_classification.py:1248: UndefinedMetricWarning: Precision and F-score are ill-defined and being set to 0.0 in labels with no predicted samples. Use `zero_division` parameter to control this behavior.\n",
      "  _warn_prf(average, modifier, msg_start, len(result))\n",
      "c:\\users\\asus\\appdata\\local\\programs\\python\\python39\\lib\\site-packages\\sklearn\\metrics\\_classification.py:1248: UndefinedMetricWarning: Precision and F-score are ill-defined and being set to 0.0 in labels with no predicted samples. Use `zero_division` parameter to control this behavior.\n",
      "  _warn_prf(average, modifier, msg_start, len(result))\n",
      "c:\\users\\asus\\appdata\\local\\programs\\python\\python39\\lib\\site-packages\\sklearn\\metrics\\_classification.py:1248: UndefinedMetricWarning: Precision and F-score are ill-defined and being set to 0.0 in labels with no predicted samples. Use `zero_division` parameter to control this behavior.\n",
      "  _warn_prf(average, modifier, msg_start, len(result))\n"
     ]
    }
   ],
   "source": [
    "y4_pred = clf4.predict(test_x)\n",
    "print(classification_report(test_y, y4_pred)) "
   ]
  }
 ],
 "metadata": {
  "kernelspec": {
   "display_name": "Python 3",
   "language": "python",
   "name": "python3"
  },
  "language_info": {
   "codemirror_mode": {
    "name": "ipython",
    "version": 3
   },
   "file_extension": ".py",
   "mimetype": "text/x-python",
   "name": "python",
   "nbconvert_exporter": "python",
   "pygments_lexer": "ipython3",
   "version": "3.9.5"
  }
 },
 "nbformat": 4,
 "nbformat_minor": 5
}
